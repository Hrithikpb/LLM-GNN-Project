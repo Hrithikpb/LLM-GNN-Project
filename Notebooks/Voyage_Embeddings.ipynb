{
  "cells": [
    {
      "cell_type": "code",
      "execution_count": 2,
      "metadata": {
        "id": "1ZfWDzdCvCdU"
      },
      "outputs": [],
      "source": [
        "# !pip install voyageai"
      ]
    },
    {
      "cell_type": "code",
      "execution_count": 14,
      "metadata": {
        "id": "lPYTWTF0vxx3"
      },
      "outputs": [],
      "source": [
        "import pandas as pd\n",
        "from tqdm.notebook import tqdm\n",
        "\n",
        "processed_data = pd.read_csv('../data/processed.csv')"
      ]
    },
    {
      "cell_type": "code",
      "execution_count": 15,
      "metadata": {
        "colab": {
          "base_uri": "https://localhost:8080/",
          "height": 206
        },
        "id": "Lz99GzIewd9Q",
        "outputId": "07781554-ab24-49d8-89eb-54d55d06efd5"
      },
      "outputs": [
        {
          "data": {
            "text/html": [
              "<div>\n",
              "<style scoped>\n",
              "    .dataframe tbody tr th:only-of-type {\n",
              "        vertical-align: middle;\n",
              "    }\n",
              "\n",
              "    .dataframe tbody tr th {\n",
              "        vertical-align: top;\n",
              "    }\n",
              "\n",
              "    .dataframe thead th {\n",
              "        text-align: right;\n",
              "    }\n",
              "</style>\n",
              "<table border=\"1\" class=\"dataframe\">\n",
              "  <thead>\n",
              "    <tr style=\"text-align: right;\">\n",
              "      <th></th>\n",
              "      <th>paper id</th>\n",
              "      <th>title</th>\n",
              "      <th>abstract</th>\n",
              "      <th>node idx</th>\n",
              "    </tr>\n",
              "  </thead>\n",
              "  <tbody>\n",
              "    <tr>\n",
              "      <th>0</th>\n",
              "      <td>630234</td>\n",
              "      <td>spreadsheets on the move an evaluation of mobi...</td>\n",
              "      <td>The power of mobile devices has increased dram...</td>\n",
              "      <td>104447</td>\n",
              "    </tr>\n",
              "    <tr>\n",
              "      <th>1</th>\n",
              "      <td>803423</td>\n",
              "      <td>multi view metric learning for multi view vide...</td>\n",
              "      <td>Traditional methods on video summarization are...</td>\n",
              "      <td>15858</td>\n",
              "    </tr>\n",
              "    <tr>\n",
              "      <th>2</th>\n",
              "      <td>1102481</td>\n",
              "      <td>big data analytics in future internet of things</td>\n",
              "      <td>Current research on Internet of Things (IoT) m...</td>\n",
              "      <td>107156</td>\n",
              "    </tr>\n",
              "    <tr>\n",
              "      <th>3</th>\n",
              "      <td>1532644</td>\n",
              "      <td>machine learner for automated reasoning 0 4 an...</td>\n",
              "      <td>Machine Learner for Automated Reasoning (MaLAR...</td>\n",
              "      <td>141536</td>\n",
              "    </tr>\n",
              "    <tr>\n",
              "      <th>4</th>\n",
              "      <td>1810480</td>\n",
              "      <td>cryptographic hardening of d sequences</td>\n",
              "      <td>This paper shows how a one-way mapping using m...</td>\n",
              "      <td>82077</td>\n",
              "    </tr>\n",
              "  </tbody>\n",
              "</table>\n",
              "</div>"
            ],
            "text/plain": [
              "   paper id                                              title  \\\n",
              "0    630234  spreadsheets on the move an evaluation of mobi...   \n",
              "1    803423  multi view metric learning for multi view vide...   \n",
              "2   1102481    big data analytics in future internet of things   \n",
              "3   1532644  machine learner for automated reasoning 0 4 an...   \n",
              "4   1810480             cryptographic hardening of d sequences   \n",
              "\n",
              "                                            abstract  node idx  \n",
              "0  The power of mobile devices has increased dram...    104447  \n",
              "1  Traditional methods on video summarization are...     15858  \n",
              "2  Current research on Internet of Things (IoT) m...    107156  \n",
              "3  Machine Learner for Automated Reasoning (MaLAR...    141536  \n",
              "4  This paper shows how a one-way mapping using m...     82077  "
            ]
          },
          "execution_count": 15,
          "metadata": {},
          "output_type": "execute_result"
        }
      ],
      "source": [
        "processed_data.head()"
      ]
    },
    {
      "cell_type": "code",
      "execution_count": 16,
      "metadata": {
        "id": "DZqeovYvyiJi"
      },
      "outputs": [],
      "source": [
        "# Combine the title and abstract for each paper into a single text column\n",
        "processed_data['combined_text'] = \"Title \"+processed_data['title'] + \". Abstract \" + processed_data['abstract']"
      ]
    },
    {
      "cell_type": "code",
      "execution_count": 17,
      "metadata": {
        "colab": {
          "base_uri": "https://localhost:8080/"
        },
        "id": "2Nu-QAdEu_Ld",
        "outputId": "5913ee39-c24c-4cb4-d374-de557129f173"
      },
      "outputs": [],
      "source": [
        "'''\n",
        "Documentation Link: https://docs.anthropic.com/claude/docs/embeddings#voyage-python-package\n",
        "'''\n",
        "import voyageai\n",
        "\n",
        "vo = voyageai.Client(api_key=\"pa-i3_EDVkDrolSGzzK2yUNCsVKplziqkOt4ASqf3Y1kwE\")\n",
        "# This will automatically use the environment variable VOYAGE_API_KEY.\n",
        "# Alternatively, you can use vo = voyageai.Client(api_key=\"<your secret key>\")"
      ]
    },
    {
      "cell_type": "code",
      "execution_count": 20,
      "metadata": {
        "colab": {
          "base_uri": "https://localhost:8080/",
          "height": 408
        },
        "id": "KBcQAZb5vASo",
        "outputId": "6c504659-4ddf-4616-8b16-638d9e2dd5a3"
      },
      "outputs": [
        {
          "data": {
            "application/vnd.jupyter.widget-view+json": {
              "model_id": "d21fd1d1776048969865b0265bb6e497",
              "version_major": 2,
              "version_minor": 0
            },
            "text/plain": [
              "  0%|          | 0/1323 [00:00<?, ?it/s]"
            ]
          },
          "metadata": {},
          "output_type": "display_data"
        }
      ],
      "source": [
        "import time\n",
        "\n",
        "embeddings = []\n",
        "batch_size = 128\n",
        "for start_idx in tqdm(range(0, processed_data.shape[0], batch_size)):\n",
        "    batch_texts = processed_data[start_idx:start_idx+batch_size]['combined_text'].tolist()\n",
        "    result = vo.embed(batch_texts, model=\"voyage-2\", input_type=\"document\")\n",
        "    embeddings.extend(result.embeddings)\n",
        "    time.sleep(0.6)\n",
        "    \n",
        "    # texts = [\"Sample text 1\"] #maximum length of list is 128"
      ]
    },
    {
      "cell_type": "code",
      "execution_count": 21,
      "metadata": {},
      "outputs": [],
      "source": [
        "processed_data['voyage_embeddings'] = embeddings"
      ]
    },
    {
      "cell_type": "code",
      "execution_count": 26,
      "metadata": {},
      "outputs": [],
      "source": [
        "processed_data.to_csv('../data/voyage_embeddings.csv',index=False)"
      ]
    },
    {
      "cell_type": "code",
      "execution_count": 29,
      "metadata": {},
      "outputs": [],
      "source": [
        "# import gzip"
      ]
    },
    {
      "cell_type": "code",
      "execution_count": 28,
      "metadata": {},
      "outputs": [],
      "source": [
        "processed_data.to_csv('../data/voyage_embeddings.csv',index=False,compression='gzip')"
      ]
    },
    {
      "cell_type": "code",
      "execution_count": null,
      "metadata": {},
      "outputs": [],
      "source": []
    }
  ],
  "metadata": {
    "colab": {
      "provenance": []
    },
    "kernelspec": {
      "display_name": "Python 3",
      "name": "python3"
    },
    "language_info": {
      "codemirror_mode": {
        "name": "ipython",
        "version": 3
      },
      "file_extension": ".py",
      "mimetype": "text/x-python",
      "name": "python",
      "nbconvert_exporter": "python",
      "pygments_lexer": "ipython3",
      "version": "3.11.5"
    }
  },
  "nbformat": 4,
  "nbformat_minor": 0
}
