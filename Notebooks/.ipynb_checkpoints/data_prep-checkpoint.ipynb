{
 "cells": [
  {
   "cell_type": "code",
   "execution_count": 1,
   "id": "ded54a2e",
   "metadata": {},
   "outputs": [],
   "source": [
    "import pandas as pd"
   ]
  },
  {
   "cell_type": "code",
   "execution_count": 4,
   "id": "8a03c46d",
   "metadata": {},
   "outputs": [
    {
     "data": {
      "text/html": [
       "<div>\n",
       "<style scoped>\n",
       "    .dataframe tbody tr th:only-of-type {\n",
       "        vertical-align: middle;\n",
       "    }\n",
       "\n",
       "    .dataframe tbody tr th {\n",
       "        vertical-align: top;\n",
       "    }\n",
       "\n",
       "    .dataframe thead th {\n",
       "        text-align: right;\n",
       "    }\n",
       "</style>\n",
       "<table border=\"1\" class=\"dataframe\">\n",
       "  <thead>\n",
       "    <tr style=\"text-align: right;\">\n",
       "      <th></th>\n",
       "      <th>arxiv_id</th>\n",
       "      <th>title</th>\n",
       "      <th>abstract</th>\n",
       "      <th>category</th>\n",
       "      <th>label</th>\n",
       "      <th>node_id</th>\n",
       "    </tr>\n",
       "  </thead>\n",
       "  <tbody>\n",
       "    <tr>\n",
       "      <th>0</th>\n",
       "      <td>2307.06318</td>\n",
       "      <td>SAGE - A Tool for Optimal Deployments in Kuber...</td>\n",
       "      <td>Cloud computing has brought a fundamental tran...</td>\n",
       "      <td>Distributed, Parallel, and Cluster Computing (...</td>\n",
       "      <td>5</td>\n",
       "      <td>0</td>\n",
       "    </tr>\n",
       "    <tr>\n",
       "      <th>1</th>\n",
       "      <td>2303.01316</td>\n",
       "      <td>Interactive robots as inclusive tools to incre...</td>\n",
       "      <td>There is a major lack of diversity in engineer...</td>\n",
       "      <td>Robotics (cs.RO)</td>\n",
       "      <td>27</td>\n",
       "      <td>1</td>\n",
       "    </tr>\n",
       "    <tr>\n",
       "      <th>2</th>\n",
       "      <td>2307.13821</td>\n",
       "      <td>Fitting Auditory Filterbanks with Multiresolut...</td>\n",
       "      <td>Waveform-based deep learning faces a dilemma b...</td>\n",
       "      <td>Sound (cs.SD)</td>\n",
       "      <td>25</td>\n",
       "      <td>2</td>\n",
       "    </tr>\n",
       "    <tr>\n",
       "      <th>3</th>\n",
       "      <td>2303.17984</td>\n",
       "      <td>Models as Agents: Optimizing Multi-Step Predic...</td>\n",
       "      <td>Research in model-based reinforcement learning...</td>\n",
       "      <td>Multiagent Systems (cs.MA)</td>\n",
       "      <td>11</td>\n",
       "      <td>3</td>\n",
       "    </tr>\n",
       "    <tr>\n",
       "      <th>4</th>\n",
       "      <td>2301.03989</td>\n",
       "      <td>GPU-based high-precision orbital propagation o...</td>\n",
       "      <td>NaN</td>\n",
       "      <td>Distributed, Parallel, and Cluster Computing (...</td>\n",
       "      <td>5</td>\n",
       "      <td>4</td>\n",
       "    </tr>\n",
       "  </tbody>\n",
       "</table>\n",
       "</div>"
      ],
      "text/plain": [
       "     arxiv_id                                              title  \\\n",
       "0  2307.06318  SAGE - A Tool for Optimal Deployments in Kuber...   \n",
       "1  2303.01316  Interactive robots as inclusive tools to incre...   \n",
       "2  2307.13821  Fitting Auditory Filterbanks with Multiresolut...   \n",
       "3  2303.17984  Models as Agents: Optimizing Multi-Step Predic...   \n",
       "4  2301.03989  GPU-based high-precision orbital propagation o...   \n",
       "\n",
       "                                            abstract  \\\n",
       "0  Cloud computing has brought a fundamental tran...   \n",
       "1  There is a major lack of diversity in engineer...   \n",
       "2  Waveform-based deep learning faces a dilemma b...   \n",
       "3  Research in model-based reinforcement learning...   \n",
       "4                                                NaN   \n",
       "\n",
       "                                            category  label  node_id  \n",
       "0  Distributed, Parallel, and Cluster Computing (...      5        0  \n",
       "1                                   Robotics (cs.RO)     27        1  \n",
       "2                                      Sound (cs.SD)     25        2  \n",
       "3                         Multiagent Systems (cs.MA)     11        3  \n",
       "4  Distributed, Parallel, and Cluster Computing (...      5        4  "
      ]
     },
     "execution_count": 4,
     "metadata": {},
     "output_type": "execute_result"
    }
   ],
   "source": [
    "data = pd.read_csv('/Users/akshada/Desktop/akshada/LLM-GNN/LLMGNN/data/paper_info.csv')\n",
    "data.head()"
   ]
  },
  {
   "cell_type": "code",
   "execution_count": 14,
   "id": "ee3a18dd",
   "metadata": {},
   "outputs": [
    {
     "data": {
      "text/plain": [
       "(46198, 6)"
      ]
     },
     "execution_count": 14,
     "metadata": {},
     "output_type": "execute_result"
    }
   ],
   "source": [
    "data.shape"
   ]
  },
  {
   "cell_type": "code",
   "execution_count": 18,
   "id": "a7bdf3f6",
   "metadata": {},
   "outputs": [
    {
     "data": {
      "text/plain": [
       "46198"
      ]
     },
     "execution_count": 18,
     "metadata": {},
     "output_type": "execute_result"
    }
   ],
   "source": [
    "len(data['node_id'].unique())"
   ]
  },
  {
   "cell_type": "code",
   "execution_count": 23,
   "id": "849c6d1e",
   "metadata": {},
   "outputs": [
    {
     "data": {
      "text/plain": [
       "16    10663\n",
       "24     9398\n",
       "30     5625\n",
       "27     2801\n",
       "4      1873\n",
       "10     1852\n",
       "28     1464\n",
       "6      1310\n",
       "23     1263\n",
       "31     1014\n",
       "34      833\n",
       "5       791\n",
       "3       766\n",
       "8       762\n",
       "25      725\n",
       "2       577\n",
       "26      552\n",
       "36      509\n",
       "13      432\n",
       "37      332\n",
       "15      318\n",
       "22      263\n",
       "7       245\n",
       "17      233\n",
       "9       210\n",
       "11      199\n",
       "20      183\n",
       "38      171\n",
       "33      160\n",
       "39      157\n",
       "18      153\n",
       "1       152\n",
       "14       67\n",
       "32       45\n",
       "29       38\n",
       "21       36\n",
       "35       24\n",
       "12        2\n",
       "Name: label, dtype: int64"
      ]
     },
     "execution_count": 23,
     "metadata": {},
     "output_type": "execute_result"
    }
   ],
   "source": [
    "data['label'].value_counts()"
   ]
  },
  {
   "cell_type": "code",
   "execution_count": 45,
   "id": "d59d0e9d",
   "metadata": {},
   "outputs": [],
   "source": [
    "from ogb.nodeproppred import NodePropPredDataset\n",
    "\n",
    "dataset = NodePropPredDataset(name = \"ogbn-arxiv\") \n",
    "\n",
    "split_idx = dataset.get_idx_split()\n",
    "train_idx, valid_idx, test_idx = split_idx[\"train\"], split_idx[\"valid\"], split_idx[\"test\"]\n",
    "graph,label = dataset[0]"
   ]
  },
  {
   "cell_type": "code",
   "execution_count": 49,
   "id": "339b381b",
   "metadata": {},
   "outputs": [
    {
     "data": {
      "text/plain": [
       "{'edge_index': array([[104447,  15858, 107156, ...,  45118,  45118,  45118],\n",
       "        [ 13091,  47283,  69161, ..., 162473, 162537,  72717]]),\n",
       " 'edge_feat': None,\n",
       " 'node_feat': array([[-0.057943, -0.05253 , -0.072603, ...,  0.173364, -0.172796,\n",
       "         -0.140059],\n",
       "        [-0.1245  , -0.070665, -0.325202, ...,  0.068524, -0.372111,\n",
       "         -0.301036],\n",
       "        [-0.080242, -0.023328, -0.183787, ...,  0.109919,  0.117589,\n",
       "         -0.139883],\n",
       "        ...,\n",
       "        [-0.22053 , -0.036568, -0.402199, ...,  0.11336 , -0.161393,\n",
       "         -0.145171],\n",
       "        [-0.138236,  0.040885, -0.251811, ..., -0.08929 , -0.041253,\n",
       "         -0.376132],\n",
       "        [-0.029875,  0.268417, -0.161124, ...,  0.120807,  0.077647,\n",
       "         -0.091018]], dtype=float32),\n",
       " 'node_year': array([[2013],\n",
       "        [2015],\n",
       "        [2014],\n",
       "        ...,\n",
       "        [2020],\n",
       "        [2020],\n",
       "        [2020]]),\n",
       " 'num_nodes': 169343}"
      ]
     },
     "execution_count": 49,
     "metadata": {},
     "output_type": "execute_result"
    }
   ],
   "source": [
    "graph"
   ]
  },
  {
   "cell_type": "code",
   "execution_count": 30,
   "id": "1bec580a",
   "metadata": {},
   "outputs": [
    {
     "name": "stdout",
     "output_type": "stream",
     "text": [
      "Collecting ogb\n",
      "  Downloading ogb-1.3.6-py3-none-any.whl (78 kB)\n",
      "\u001b[2K     \u001b[38;2;114;156;31m━━━━━━━━━━━━━━━━━━━━━━━━━━━━━━━━━━━━━━━━\u001b[0m \u001b[32m78.8/78.8 kB\u001b[0m \u001b[31m1.6 MB/s\u001b[0m eta \u001b[36m0:00:00\u001b[0m[31m2.0 MB/s\u001b[0m eta \u001b[36m0:00:01\u001b[0m\n",
      "\u001b[?25hCollecting outdated>=0.2.0\n",
      "  Downloading outdated-0.2.2-py2.py3-none-any.whl (7.5 kB)\n",
      "Requirement already satisfied: numpy>=1.16.0 in /Users/akshada/anaconda3/lib/python3.10/site-packages (from ogb) (1.23.5)\n",
      "Requirement already satisfied: torch>=1.6.0 in /Users/akshada/anaconda3/lib/python3.10/site-packages (from ogb) (2.2.1)\n",
      "Requirement already satisfied: tqdm>=4.29.0 in /Users/akshada/anaconda3/lib/python3.10/site-packages (from ogb) (4.64.1)\n",
      "Requirement already satisfied: six>=1.12.0 in /Users/akshada/anaconda3/lib/python3.10/site-packages (from ogb) (1.16.0)\n",
      "Requirement already satisfied: scikit-learn>=0.20.0 in /Users/akshada/anaconda3/lib/python3.10/site-packages (from ogb) (1.2.1)\n",
      "Requirement already satisfied: urllib3>=1.24.0 in /Users/akshada/anaconda3/lib/python3.10/site-packages (from ogb) (1.26.14)\n",
      "Requirement already satisfied: pandas>=0.24.0 in /Users/akshada/anaconda3/lib/python3.10/site-packages (from ogb) (1.5.3)\n",
      "Requirement already satisfied: setuptools>=44 in /Users/akshada/anaconda3/lib/python3.10/site-packages (from outdated>=0.2.0->ogb) (65.6.3)\n",
      "Requirement already satisfied: requests in /Users/akshada/anaconda3/lib/python3.10/site-packages (from outdated>=0.2.0->ogb) (2.28.1)\n",
      "Collecting littleutils\n",
      "  Downloading littleutils-0.2.2.tar.gz (6.6 kB)\n",
      "  Preparing metadata (setup.py) ... \u001b[?25ldone\n",
      "\u001b[?25hRequirement already satisfied: python-dateutil>=2.8.1 in /Users/akshada/anaconda3/lib/python3.10/site-packages (from pandas>=0.24.0->ogb) (2.8.2)\n",
      "Requirement already satisfied: pytz>=2020.1 in /Users/akshada/anaconda3/lib/python3.10/site-packages (from pandas>=0.24.0->ogb) (2022.7)\n",
      "Requirement already satisfied: joblib>=1.1.1 in /Users/akshada/anaconda3/lib/python3.10/site-packages (from scikit-learn>=0.20.0->ogb) (1.1.1)\n",
      "Requirement already satisfied: scipy>=1.3.2 in /Users/akshada/anaconda3/lib/python3.10/site-packages (from scikit-learn>=0.20.0->ogb) (1.10.0)\n",
      "Requirement already satisfied: threadpoolctl>=2.0.0 in /Users/akshada/anaconda3/lib/python3.10/site-packages (from scikit-learn>=0.20.0->ogb) (2.2.0)\n",
      "Requirement already satisfied: jinja2 in /Users/akshada/anaconda3/lib/python3.10/site-packages (from torch>=1.6.0->ogb) (3.1.2)\n",
      "Requirement already satisfied: sympy in /Users/akshada/anaconda3/lib/python3.10/site-packages (from torch>=1.6.0->ogb) (1.11.1)\n",
      "Requirement already satisfied: typing-extensions>=4.8.0 in /Users/akshada/anaconda3/lib/python3.10/site-packages (from torch>=1.6.0->ogb) (4.9.0)\n",
      "Requirement already satisfied: filelock in /Users/akshada/anaconda3/lib/python3.10/site-packages (from torch>=1.6.0->ogb) (3.9.0)\n",
      "Requirement already satisfied: fsspec in /Users/akshada/anaconda3/lib/python3.10/site-packages (from torch>=1.6.0->ogb) (2022.11.0)\n",
      "Requirement already satisfied: networkx in /Users/akshada/anaconda3/lib/python3.10/site-packages (from torch>=1.6.0->ogb) (2.8.4)\n",
      "Requirement already satisfied: MarkupSafe>=2.0 in /Users/akshada/anaconda3/lib/python3.10/site-packages (from jinja2->torch>=1.6.0->ogb) (2.1.1)\n",
      "Requirement already satisfied: charset-normalizer<3,>=2 in /Users/akshada/anaconda3/lib/python3.10/site-packages (from requests->outdated>=0.2.0->ogb) (2.0.4)\n",
      "Requirement already satisfied: certifi>=2017.4.17 in /Users/akshada/anaconda3/lib/python3.10/site-packages (from requests->outdated>=0.2.0->ogb) (2022.12.7)\n",
      "Requirement already satisfied: idna<4,>=2.5 in /Users/akshada/anaconda3/lib/python3.10/site-packages (from requests->outdated>=0.2.0->ogb) (3.4)\n",
      "Requirement already satisfied: mpmath>=0.19 in /Users/akshada/anaconda3/lib/python3.10/site-packages/mpmath-1.2.1-py3.10.egg (from sympy->torch>=1.6.0->ogb) (1.2.1)\n",
      "Building wheels for collected packages: littleutils\n",
      "  Building wheel for littleutils (setup.py) ... \u001b[?25ldone\n",
      "\u001b[?25h  Created wheel for littleutils: filename=littleutils-0.2.2-py3-none-any.whl size=7028 sha256=d947585ee3c5702b4b3bc1edff28f01c2575d8542976d369a37f6deae7345971\n",
      "  Stored in directory: /Users/akshada/Library/Caches/pip/wheels/e0/3b/9c/d55ff5bc6cfbe70537c4731a22f2ee2462c2e5010b56ac9726\n",
      "Successfully built littleutils\n",
      "Installing collected packages: littleutils, outdated, ogb\n",
      "Successfully installed littleutils-0.2.2 ogb-1.3.6 outdated-0.2.2\n"
     ]
    }
   ],
   "source": [
    "!pip install ogb"
   ]
  },
  {
   "cell_type": "code",
   "execution_count": 32,
   "id": "4e3c748a",
   "metadata": {},
   "outputs": [],
   "source": [
    "import torch\n",
    "import pandas as pd\n",
    "import numpy as np\n",
    "import torch\n",
    "import random"
   ]
  },
  {
   "cell_type": "code",
   "execution_count": 38,
   "id": "482c220c",
   "metadata": {},
   "outputs": [],
   "source": [
    "fname = '/Users/akshada/Desktop/akshada/LLM-GNN/LLMGNN/data/geometric_data_processed.pt'\n",
    "\n",
    "data = torch.load(fname)"
   ]
  },
  {
   "cell_type": "code",
   "execution_count": 39,
   "id": "ba0fe235",
   "metadata": {},
   "outputs": [
    {
     "data": {
      "text/plain": [
       "Data(x=[57471, 300], edge_index=[2, 122835], y=[57471], num_nodes=57471)"
      ]
     },
     "execution_count": 39,
     "metadata": {},
     "output_type": "execute_result"
    }
   ],
   "source": [
    "data"
   ]
  },
  {
   "cell_type": "code",
   "execution_count": 36,
   "id": "122db2c3",
   "metadata": {},
   "outputs": [
    {
     "data": {
      "text/plain": [
       "tensor([[-0.0187,  0.0111,  0.0504,  ..., -0.0339,  0.0367, -0.0415],\n",
       "        [ 0.0324,  0.0231,  0.0308,  ..., -0.0439, -0.0125,  0.0219],\n",
       "        [-0.0077,  0.0504,  0.0546,  ...,  0.0146, -0.0087,  0.0212],\n",
       "        ...,\n",
       "        [-0.0151,  0.0302, -0.0420,  ..., -0.0279,  0.0324, -0.0593],\n",
       "        [-0.0004,  0.0433,  0.0502,  ..., -0.0417, -0.0082, -0.0133],\n",
       "        [ 0.0074,  0.0460,  0.0255,  ..., -0.0545,  0.0248, -0.0400]])"
      ]
     },
     "execution_count": 36,
     "metadata": {},
     "output_type": "execute_result"
    }
   ],
   "source": [
    "data.x"
   ]
  },
  {
   "cell_type": "code",
   "execution_count": 43,
   "id": "34f0aad7",
   "metadata": {},
   "outputs": [
    {
     "data": {
      "text/plain": [
       "15858"
      ]
     },
     "execution_count": 43,
     "metadata": {},
     "output_type": "execute_result"
    }
   ],
   "source": [
    "graph[0]['edge_index'][0][1]"
   ]
  },
  {
   "cell_type": "code",
   "execution_count": 44,
   "id": "90811f94",
   "metadata": {},
   "outputs": [
    {
     "data": {
      "text/plain": [
       "{'edge_index': array([[104447,  15858, 107156, ...,  45118,  45118,  45118],\n",
       "        [ 13091,  47283,  69161, ..., 162473, 162537,  72717]]),\n",
       " 'edge_feat': None,\n",
       " 'node_feat': array([[-0.057943, -0.05253 , -0.072603, ...,  0.173364, -0.172796,\n",
       "         -0.140059],\n",
       "        [-0.1245  , -0.070665, -0.325202, ...,  0.068524, -0.372111,\n",
       "         -0.301036],\n",
       "        [-0.080242, -0.023328, -0.183787, ...,  0.109919,  0.117589,\n",
       "         -0.139883],\n",
       "        ...,\n",
       "        [-0.22053 , -0.036568, -0.402199, ...,  0.11336 , -0.161393,\n",
       "         -0.145171],\n",
       "        [-0.138236,  0.040885, -0.251811, ..., -0.08929 , -0.041253,\n",
       "         -0.376132],\n",
       "        [-0.029875,  0.268417, -0.161124, ...,  0.120807,  0.077647,\n",
       "         -0.091018]], dtype=float32),\n",
       " 'node_year': array([[2013],\n",
       "        [2015],\n",
       "        [2014],\n",
       "        ...,\n",
       "        [2020],\n",
       "        [2020],\n",
       "        [2020]]),\n",
       " 'num_nodes': 169343}"
      ]
     },
     "execution_count": 44,
     "metadata": {},
     "output_type": "execute_result"
    }
   ],
   "source": [
    "graph[0]"
   ]
  },
  {
   "cell_type": "code",
   "execution_count": 3,
   "id": "20b5efee",
   "metadata": {},
   "outputs": [],
   "source": [
    "paperName = pd.read_csv('/Users/akshada/Desktop/akshada/HPGA/datasets/titleabs 2.tsv', sep = '\\t', header = None)\n",
    "nodeId = pd.read_csv('/Users/akshada/Desktop/akshada/LLM-GNN/LLMGNN/data/nodeidx2paperid.csv')\n",
    "edges = pd.read_csv('/Users/akshada/Desktop/akshada/LLM-GNN/LLMGNN/data/edge.csv', header = None)"
   ]
  },
  {
   "cell_type": "code",
   "execution_count": 4,
   "id": "9bd437a7",
   "metadata": {},
   "outputs": [
    {
     "data": {
      "text/plain": [
       "Index(['paper id', 'title', 'abstract'], dtype='object')"
      ]
     },
     "execution_count": 4,
     "metadata": {},
     "output_type": "execute_result"
    }
   ],
   "source": [
    "paperName = paperName.rename(columns={0: \"paper id\", 1: \"title\", 2:\"abstract\"})\n",
    "paperName.columns"
   ]
  },
  {
   "cell_type": "code",
   "execution_count": 5,
   "id": "c4b01d7b",
   "metadata": {},
   "outputs": [
    {
     "data": {
      "text/html": [
       "<div>\n",
       "<style scoped>\n",
       "    .dataframe tbody tr th:only-of-type {\n",
       "        vertical-align: middle;\n",
       "    }\n",
       "\n",
       "    .dataframe tbody tr th {\n",
       "        vertical-align: top;\n",
       "    }\n",
       "\n",
       "    .dataframe thead th {\n",
       "        text-align: right;\n",
       "    }\n",
       "</style>\n",
       "<table border=\"1\" class=\"dataframe\">\n",
       "  <thead>\n",
       "    <tr style=\"text-align: right;\">\n",
       "      <th></th>\n",
       "      <th>paper id</th>\n",
       "      <th>title</th>\n",
       "      <th>abstract</th>\n",
       "    </tr>\n",
       "  </thead>\n",
       "  <tbody>\n",
       "    <tr>\n",
       "      <th>0</th>\n",
       "      <td>200971</td>\n",
       "      <td>ontology as a source for rule generation</td>\n",
       "      <td>This paper discloses the potential of OWL (Web...</td>\n",
       "    </tr>\n",
       "    <tr>\n",
       "      <th>1</th>\n",
       "      <td>549074</td>\n",
       "      <td>a novel methodology for thermal analysis a 3 d...</td>\n",
       "      <td>The semiconductor industry is reaching a fasci...</td>\n",
       "    </tr>\n",
       "    <tr>\n",
       "      <th>2</th>\n",
       "      <td>630234</td>\n",
       "      <td>spreadsheets on the move an evaluation of mobi...</td>\n",
       "      <td>The power of mobile devices has increased dram...</td>\n",
       "    </tr>\n",
       "    <tr>\n",
       "      <th>3</th>\n",
       "      <td>803423</td>\n",
       "      <td>multi view metric learning for multi view vide...</td>\n",
       "      <td>Traditional methods on video summarization are...</td>\n",
       "    </tr>\n",
       "    <tr>\n",
       "      <th>4</th>\n",
       "      <td>1102481</td>\n",
       "      <td>big data analytics in future internet of things</td>\n",
       "      <td>Current research on Internet of Things (IoT) m...</td>\n",
       "    </tr>\n",
       "    <tr>\n",
       "      <th>...</th>\n",
       "      <td>...</td>\n",
       "      <td>...</td>\n",
       "      <td>...</td>\n",
       "    </tr>\n",
       "    <tr>\n",
       "      <th>179714</th>\n",
       "      <td>3012554562</td>\n",
       "      <td>federated visual classification with real worl...</td>\n",
       "      <td>Federated Learning enables visual models to be...</td>\n",
       "    </tr>\n",
       "    <tr>\n",
       "      <th>179715</th>\n",
       "      <td>3012555423</td>\n",
       "      <td>kernel quantization for efficient network comp...</td>\n",
       "      <td>This paper presents a novel network compressio...</td>\n",
       "    </tr>\n",
       "    <tr>\n",
       "      <th>179716</th>\n",
       "      <td>3012556759</td>\n",
       "      <td>generating electronic health records with mult...</td>\n",
       "      <td>Sharing electronic health records (EHRs) on a ...</td>\n",
       "    </tr>\n",
       "    <tr>\n",
       "      <th>179717</th>\n",
       "      <td>3012557507</td>\n",
       "      <td>vulnerabilities of connectionist ai applicatio...</td>\n",
       "      <td>This article deals with the IT security of con...</td>\n",
       "    </tr>\n",
       "    <tr>\n",
       "      <th>179718</th>\n",
       "      <td>3012557525</td>\n",
       "      <td>cross modal multi task learning for graphic re...</td>\n",
       "      <td>Face recognition of realistic visual images ha...</td>\n",
       "    </tr>\n",
       "  </tbody>\n",
       "</table>\n",
       "<p>179719 rows × 3 columns</p>\n",
       "</div>"
      ],
      "text/plain": [
       "          paper id                                              title  \\\n",
       "0           200971           ontology as a source for rule generation   \n",
       "1           549074  a novel methodology for thermal analysis a 3 d...   \n",
       "2           630234  spreadsheets on the move an evaluation of mobi...   \n",
       "3           803423  multi view metric learning for multi view vide...   \n",
       "4          1102481    big data analytics in future internet of things   \n",
       "...            ...                                                ...   \n",
       "179714  3012554562  federated visual classification with real worl...   \n",
       "179715  3012555423  kernel quantization for efficient network comp...   \n",
       "179716  3012556759  generating electronic health records with mult...   \n",
       "179717  3012557507  vulnerabilities of connectionist ai applicatio...   \n",
       "179718  3012557525  cross modal multi task learning for graphic re...   \n",
       "\n",
       "                                                 abstract  \n",
       "0       This paper discloses the potential of OWL (Web...  \n",
       "1       The semiconductor industry is reaching a fasci...  \n",
       "2       The power of mobile devices has increased dram...  \n",
       "3       Traditional methods on video summarization are...  \n",
       "4       Current research on Internet of Things (IoT) m...  \n",
       "...                                                   ...  \n",
       "179714  Federated Learning enables visual models to be...  \n",
       "179715  This paper presents a novel network compressio...  \n",
       "179716  Sharing electronic health records (EHRs) on a ...  \n",
       "179717  This article deals with the IT security of con...  \n",
       "179718  Face recognition of realistic visual images ha...  \n",
       "\n",
       "[179719 rows x 3 columns]"
      ]
     },
     "execution_count": 5,
     "metadata": {},
     "output_type": "execute_result"
    }
   ],
   "source": [
    "paperName"
   ]
  },
  {
   "cell_type": "code",
   "execution_count": 6,
   "id": "8bd7c17a",
   "metadata": {},
   "outputs": [
    {
     "data": {
      "text/html": [
       "<div>\n",
       "<style scoped>\n",
       "    .dataframe tbody tr th:only-of-type {\n",
       "        vertical-align: middle;\n",
       "    }\n",
       "\n",
       "    .dataframe tbody tr th {\n",
       "        vertical-align: top;\n",
       "    }\n",
       "\n",
       "    .dataframe thead th {\n",
       "        text-align: right;\n",
       "    }\n",
       "</style>\n",
       "<table border=\"1\" class=\"dataframe\">\n",
       "  <thead>\n",
       "    <tr style=\"text-align: right;\">\n",
       "      <th></th>\n",
       "      <th>0</th>\n",
       "      <th>1</th>\n",
       "    </tr>\n",
       "  </thead>\n",
       "  <tbody>\n",
       "    <tr>\n",
       "      <th>0</th>\n",
       "      <td>104447</td>\n",
       "      <td>13091</td>\n",
       "    </tr>\n",
       "    <tr>\n",
       "      <th>1</th>\n",
       "      <td>15858</td>\n",
       "      <td>47283</td>\n",
       "    </tr>\n",
       "    <tr>\n",
       "      <th>2</th>\n",
       "      <td>107156</td>\n",
       "      <td>69161</td>\n",
       "    </tr>\n",
       "    <tr>\n",
       "      <th>3</th>\n",
       "      <td>107156</td>\n",
       "      <td>136440</td>\n",
       "    </tr>\n",
       "    <tr>\n",
       "      <th>4</th>\n",
       "      <td>107156</td>\n",
       "      <td>107366</td>\n",
       "    </tr>\n",
       "    <tr>\n",
       "      <th>...</th>\n",
       "      <td>...</td>\n",
       "      <td>...</td>\n",
       "    </tr>\n",
       "    <tr>\n",
       "      <th>1166238</th>\n",
       "      <td>45118</td>\n",
       "      <td>79124</td>\n",
       "    </tr>\n",
       "    <tr>\n",
       "      <th>1166239</th>\n",
       "      <td>45118</td>\n",
       "      <td>147994</td>\n",
       "    </tr>\n",
       "    <tr>\n",
       "      <th>1166240</th>\n",
       "      <td>45118</td>\n",
       "      <td>162473</td>\n",
       "    </tr>\n",
       "    <tr>\n",
       "      <th>1166241</th>\n",
       "      <td>45118</td>\n",
       "      <td>162537</td>\n",
       "    </tr>\n",
       "    <tr>\n",
       "      <th>1166242</th>\n",
       "      <td>45118</td>\n",
       "      <td>72717</td>\n",
       "    </tr>\n",
       "  </tbody>\n",
       "</table>\n",
       "<p>1166243 rows × 2 columns</p>\n",
       "</div>"
      ],
      "text/plain": [
       "              0       1\n",
       "0        104447   13091\n",
       "1         15858   47283\n",
       "2        107156   69161\n",
       "3        107156  136440\n",
       "4        107156  107366\n",
       "...         ...     ...\n",
       "1166238   45118   79124\n",
       "1166239   45118  147994\n",
       "1166240   45118  162473\n",
       "1166241   45118  162537\n",
       "1166242   45118   72717\n",
       "\n",
       "[1166243 rows x 2 columns]"
      ]
     },
     "execution_count": 6,
     "metadata": {},
     "output_type": "execute_result"
    }
   ],
   "source": [
    "edges"
   ]
  },
  {
   "cell_type": "code",
   "execution_count": 7,
   "id": "57ed6f11",
   "metadata": {},
   "outputs": [
    {
     "data": {
      "text/html": [
       "<div>\n",
       "<style scoped>\n",
       "    .dataframe tbody tr th:only-of-type {\n",
       "        vertical-align: middle;\n",
       "    }\n",
       "\n",
       "    .dataframe tbody tr th {\n",
       "        vertical-align: top;\n",
       "    }\n",
       "\n",
       "    .dataframe thead th {\n",
       "        text-align: right;\n",
       "    }\n",
       "</style>\n",
       "<table border=\"1\" class=\"dataframe\">\n",
       "  <thead>\n",
       "    <tr style=\"text-align: right;\">\n",
       "      <th></th>\n",
       "      <th>node idx</th>\n",
       "      <th>paper id</th>\n",
       "    </tr>\n",
       "  </thead>\n",
       "  <tbody>\n",
       "    <tr>\n",
       "      <th>0</th>\n",
       "      <td>0</td>\n",
       "      <td>9657784</td>\n",
       "    </tr>\n",
       "    <tr>\n",
       "      <th>1</th>\n",
       "      <td>1</td>\n",
       "      <td>39886162</td>\n",
       "    </tr>\n",
       "    <tr>\n",
       "      <th>2</th>\n",
       "      <td>2</td>\n",
       "      <td>116214155</td>\n",
       "    </tr>\n",
       "    <tr>\n",
       "      <th>3</th>\n",
       "      <td>3</td>\n",
       "      <td>121432379</td>\n",
       "    </tr>\n",
       "    <tr>\n",
       "      <th>4</th>\n",
       "      <td>4</td>\n",
       "      <td>231147053</td>\n",
       "    </tr>\n",
       "    <tr>\n",
       "      <th>...</th>\n",
       "      <td>...</td>\n",
       "      <td>...</td>\n",
       "    </tr>\n",
       "    <tr>\n",
       "      <th>169338</th>\n",
       "      <td>169338</td>\n",
       "      <td>3011696425</td>\n",
       "    </tr>\n",
       "    <tr>\n",
       "      <th>169339</th>\n",
       "      <td>169339</td>\n",
       "      <td>3011708313</td>\n",
       "    </tr>\n",
       "    <tr>\n",
       "      <th>169340</th>\n",
       "      <td>169340</td>\n",
       "      <td>3011798063</td>\n",
       "    </tr>\n",
       "    <tr>\n",
       "      <th>169341</th>\n",
       "      <td>169341</td>\n",
       "      <td>3012226457</td>\n",
       "    </tr>\n",
       "    <tr>\n",
       "      <th>169342</th>\n",
       "      <td>169342</td>\n",
       "      <td>3012505757</td>\n",
       "    </tr>\n",
       "  </tbody>\n",
       "</table>\n",
       "<p>169343 rows × 2 columns</p>\n",
       "</div>"
      ],
      "text/plain": [
       "        node idx    paper id\n",
       "0              0     9657784\n",
       "1              1    39886162\n",
       "2              2   116214155\n",
       "3              3   121432379\n",
       "4              4   231147053\n",
       "...          ...         ...\n",
       "169338    169338  3011696425\n",
       "169339    169339  3011708313\n",
       "169340    169340  3011798063\n",
       "169341    169341  3012226457\n",
       "169342    169342  3012505757\n",
       "\n",
       "[169343 rows x 2 columns]"
      ]
     },
     "execution_count": 7,
     "metadata": {},
     "output_type": "execute_result"
    }
   ],
   "source": [
    "nodeId"
   ]
  },
  {
   "cell_type": "code",
   "execution_count": 8,
   "id": "c48ede0f",
   "metadata": {},
   "outputs": [
    {
     "data": {
      "text/html": [
       "<div>\n",
       "<style scoped>\n",
       "    .dataframe tbody tr th:only-of-type {\n",
       "        vertical-align: middle;\n",
       "    }\n",
       "\n",
       "    .dataframe tbody tr th {\n",
       "        vertical-align: top;\n",
       "    }\n",
       "\n",
       "    .dataframe thead th {\n",
       "        text-align: right;\n",
       "    }\n",
       "</style>\n",
       "<table border=\"1\" class=\"dataframe\">\n",
       "  <thead>\n",
       "    <tr style=\"text-align: right;\">\n",
       "      <th></th>\n",
       "      <th>paper id</th>\n",
       "      <th>title</th>\n",
       "      <th>abstract</th>\n",
       "      <th>node idx</th>\n",
       "    </tr>\n",
       "  </thead>\n",
       "  <tbody>\n",
       "    <tr>\n",
       "      <th>0</th>\n",
       "      <td>630234</td>\n",
       "      <td>spreadsheets on the move an evaluation of mobi...</td>\n",
       "      <td>The power of mobile devices has increased dram...</td>\n",
       "      <td>104447</td>\n",
       "    </tr>\n",
       "    <tr>\n",
       "      <th>1</th>\n",
       "      <td>803423</td>\n",
       "      <td>multi view metric learning for multi view vide...</td>\n",
       "      <td>Traditional methods on video summarization are...</td>\n",
       "      <td>15858</td>\n",
       "    </tr>\n",
       "    <tr>\n",
       "      <th>2</th>\n",
       "      <td>1102481</td>\n",
       "      <td>big data analytics in future internet of things</td>\n",
       "      <td>Current research on Internet of Things (IoT) m...</td>\n",
       "      <td>107156</td>\n",
       "    </tr>\n",
       "    <tr>\n",
       "      <th>3</th>\n",
       "      <td>1532644</td>\n",
       "      <td>machine learner for automated reasoning 0 4 an...</td>\n",
       "      <td>Machine Learner for Automated Reasoning (MaLAR...</td>\n",
       "      <td>141536</td>\n",
       "    </tr>\n",
       "    <tr>\n",
       "      <th>4</th>\n",
       "      <td>1810480</td>\n",
       "      <td>cryptographic hardening of d sequences</td>\n",
       "      <td>This paper shows how a one-way mapping using m...</td>\n",
       "      <td>82077</td>\n",
       "    </tr>\n",
       "    <tr>\n",
       "      <th>...</th>\n",
       "      <td>...</td>\n",
       "      <td>...</td>\n",
       "      <td>...</td>\n",
       "      <td>...</td>\n",
       "    </tr>\n",
       "    <tr>\n",
       "      <th>169338</th>\n",
       "      <td>3012554562</td>\n",
       "      <td>federated visual classification with real worl...</td>\n",
       "      <td>Federated Learning enables visual models to be...</td>\n",
       "      <td>109796</td>\n",
       "    </tr>\n",
       "    <tr>\n",
       "      <th>169339</th>\n",
       "      <td>3012555423</td>\n",
       "      <td>kernel quantization for efficient network comp...</td>\n",
       "      <td>This paper presents a novel network compressio...</td>\n",
       "      <td>79475</td>\n",
       "    </tr>\n",
       "    <tr>\n",
       "      <th>169340</th>\n",
       "      <td>3012556759</td>\n",
       "      <td>generating electronic health records with mult...</td>\n",
       "      <td>Sharing electronic health records (EHRs) on a ...</td>\n",
       "      <td>138893</td>\n",
       "    </tr>\n",
       "    <tr>\n",
       "      <th>169341</th>\n",
       "      <td>3012557507</td>\n",
       "      <td>vulnerabilities of connectionist ai applicatio...</td>\n",
       "      <td>This article deals with the IT security of con...</td>\n",
       "      <td>47784</td>\n",
       "    </tr>\n",
       "    <tr>\n",
       "      <th>169342</th>\n",
       "      <td>3012557525</td>\n",
       "      <td>cross modal multi task learning for graphic re...</td>\n",
       "      <td>Face recognition of realistic visual images ha...</td>\n",
       "      <td>45118</td>\n",
       "    </tr>\n",
       "  </tbody>\n",
       "</table>\n",
       "<p>169343 rows × 4 columns</p>\n",
       "</div>"
      ],
      "text/plain": [
       "          paper id                                              title  \\\n",
       "0           630234  spreadsheets on the move an evaluation of mobi...   \n",
       "1           803423  multi view metric learning for multi view vide...   \n",
       "2          1102481    big data analytics in future internet of things   \n",
       "3          1532644  machine learner for automated reasoning 0 4 an...   \n",
       "4          1810480             cryptographic hardening of d sequences   \n",
       "...            ...                                                ...   \n",
       "169338  3012554562  federated visual classification with real worl...   \n",
       "169339  3012555423  kernel quantization for efficient network comp...   \n",
       "169340  3012556759  generating electronic health records with mult...   \n",
       "169341  3012557507  vulnerabilities of connectionist ai applicatio...   \n",
       "169342  3012557525  cross modal multi task learning for graphic re...   \n",
       "\n",
       "                                                 abstract  node idx  \n",
       "0       The power of mobile devices has increased dram...    104447  \n",
       "1       Traditional methods on video summarization are...     15858  \n",
       "2       Current research on Internet of Things (IoT) m...    107156  \n",
       "3       Machine Learner for Automated Reasoning (MaLAR...    141536  \n",
       "4       This paper shows how a one-way mapping using m...     82077  \n",
       "...                                                   ...       ...  \n",
       "169338  Federated Learning enables visual models to be...    109796  \n",
       "169339  This paper presents a novel network compressio...     79475  \n",
       "169340  Sharing electronic health records (EHRs) on a ...    138893  \n",
       "169341  This article deals with the IT security of con...     47784  \n",
       "169342  Face recognition of realistic visual images ha...     45118  \n",
       "\n",
       "[169343 rows x 4 columns]"
      ]
     },
     "execution_count": 8,
     "metadata": {},
     "output_type": "execute_result"
    }
   ],
   "source": [
    "newPaper = pd.merge(paperName, nodeId, on='paper id',how='inner')\n",
    "newPaper"
   ]
  },
  {
   "cell_type": "code",
   "execution_count": 14,
   "id": "17976ea5",
   "metadata": {},
   "outputs": [],
   "source": [
    "newPaper.to_csv('../data/processed.csv',index=False)"
   ]
  },
  {
   "cell_type": "code",
   "execution_count": null,
   "id": "0f7c9631",
   "metadata": {},
   "outputs": [],
   "source": []
  }
 ],
 "metadata": {
  "kernelspec": {
   "display_name": "Python 3 (ipykernel)",
   "language": "python",
   "name": "python3"
  },
  "language_info": {
   "codemirror_mode": {
    "name": "ipython",
    "version": 3
   },
   "file_extension": ".py",
   "mimetype": "text/x-python",
   "name": "python",
   "nbconvert_exporter": "python",
   "pygments_lexer": "ipython3",
   "version": "3.10.9"
  }
 },
 "nbformat": 4,
 "nbformat_minor": 5
}
